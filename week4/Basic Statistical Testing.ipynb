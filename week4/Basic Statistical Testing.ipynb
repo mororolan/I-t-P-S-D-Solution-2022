{
 "cells": [
  {
   "cell_type": "markdown",
   "source": [
    "# Basic Statistical Testing"
   ],
   "metadata": {
    "collapsed": false,
    "pycharm": {
     "name": "#%% md\n"
    }
   }
  },
  {
   "cell_type": "code",
   "execution_count": 28,
   "outputs": [
    {
     "data": {
      "text/plain": "                             student_id  assignment1_grade  \\\n0  B73F2C11-70F0-E37D-8B10-1D20AFED50B1          92.733946   \n1  98A0FAE0-A19A-13D2-4BB5-CFBFD94031D1          86.790821   \n2  D0F62040-CEB0-904C-F563-2F8620916C4E          85.512541   \n3  FFDF2B2C-F514-EF7F-6538-A6A53518E9DC          86.030665   \n4  5ECBEEB6-F1CE-80AE-3164-E45E99473FB4          64.813800   \n\n          assignment1_submission  assignment2_grade  \\\n0  2015-11-02 06:55:34.282000000          83.030552   \n1  2015-11-29 14:57:44.429000000          86.290821   \n2  2016-01-09 05:36:02.389000000          85.512541   \n3  2016-04-30 06:50:39.801000000          68.824532   \n4  2015-12-13 17:06:10.750000000          51.491040   \n\n          assignment2_submission  assignment3_grade  \\\n0  2015-11-09 02:22:58.938000000          67.164441   \n1  2015-12-06 17:41:18.449000000          69.772657   \n2  2016-01-09 06:39:44.416000000          68.410033   \n3  2016-04-30 17:20:38.727000000          61.942079   \n4  2015-12-14 12:25:12.056000000          41.932832   \n\n          assignment3_submission  assignment4_grade  \\\n0  2015-11-12 08:58:33.998000000          53.011553   \n1  2015-12-10 08:54:55.904000000          55.098125   \n2  2016-01-15 20:22:45.882000000          54.728026   \n3  2016-05-12 07:47:16.326000000          49.553663   \n4  2015-12-29 14:25:22.594000000          36.929549   \n\n          assignment4_submission  assignment5_grade  \\\n0  2015-11-16 01:21:24.663000000          47.710398   \n1  2015-12-13 17:32:30.941000000          49.588313   \n2  2016-01-11 12:41:50.749000000          49.255224   \n3  2016-05-07 16:09:20.485000000          49.553663   \n4  2015-12-28 01:29:55.901000000          33.236594   \n\n          assignment5_submission  assignment6_grade  \\\n0  2015-11-20 13:24:59.692000000          38.168318   \n1  2015-12-19 23:26:39.285000000          44.629482   \n2  2016-01-11 17:31:12.489000000          44.329701   \n3  2016-05-24 12:51:18.016000000          44.598297   \n4  2015-12-29 14:46:06.628000000          33.236594   \n\n          assignment6_submission  \n0  2015-11-22 18:31:15.934000000  \n1  2015-12-21 17:07:24.275000000  \n2  2016-01-17 16:24:42.765000000  \n3  2016-05-26 08:09:12.058000000  \n4  2016-01-05 01:06:59.546000000  ",
      "text/html": "<div>\n<style scoped>\n    .dataframe tbody tr th:only-of-type {\n        vertical-align: middle;\n    }\n\n    .dataframe tbody tr th {\n        vertical-align: top;\n    }\n\n    .dataframe thead th {\n        text-align: right;\n    }\n</style>\n<table border=\"1\" class=\"dataframe\">\n  <thead>\n    <tr style=\"text-align: right;\">\n      <th></th>\n      <th>student_id</th>\n      <th>assignment1_grade</th>\n      <th>assignment1_submission</th>\n      <th>assignment2_grade</th>\n      <th>assignment2_submission</th>\n      <th>assignment3_grade</th>\n      <th>assignment3_submission</th>\n      <th>assignment4_grade</th>\n      <th>assignment4_submission</th>\n      <th>assignment5_grade</th>\n      <th>assignment5_submission</th>\n      <th>assignment6_grade</th>\n      <th>assignment6_submission</th>\n    </tr>\n  </thead>\n  <tbody>\n    <tr>\n      <th>0</th>\n      <td>B73F2C11-70F0-E37D-8B10-1D20AFED50B1</td>\n      <td>92.733946</td>\n      <td>2015-11-02 06:55:34.282000000</td>\n      <td>83.030552</td>\n      <td>2015-11-09 02:22:58.938000000</td>\n      <td>67.164441</td>\n      <td>2015-11-12 08:58:33.998000000</td>\n      <td>53.011553</td>\n      <td>2015-11-16 01:21:24.663000000</td>\n      <td>47.710398</td>\n      <td>2015-11-20 13:24:59.692000000</td>\n      <td>38.168318</td>\n      <td>2015-11-22 18:31:15.934000000</td>\n    </tr>\n    <tr>\n      <th>1</th>\n      <td>98A0FAE0-A19A-13D2-4BB5-CFBFD94031D1</td>\n      <td>86.790821</td>\n      <td>2015-11-29 14:57:44.429000000</td>\n      <td>86.290821</td>\n      <td>2015-12-06 17:41:18.449000000</td>\n      <td>69.772657</td>\n      <td>2015-12-10 08:54:55.904000000</td>\n      <td>55.098125</td>\n      <td>2015-12-13 17:32:30.941000000</td>\n      <td>49.588313</td>\n      <td>2015-12-19 23:26:39.285000000</td>\n      <td>44.629482</td>\n      <td>2015-12-21 17:07:24.275000000</td>\n    </tr>\n    <tr>\n      <th>2</th>\n      <td>D0F62040-CEB0-904C-F563-2F8620916C4E</td>\n      <td>85.512541</td>\n      <td>2016-01-09 05:36:02.389000000</td>\n      <td>85.512541</td>\n      <td>2016-01-09 06:39:44.416000000</td>\n      <td>68.410033</td>\n      <td>2016-01-15 20:22:45.882000000</td>\n      <td>54.728026</td>\n      <td>2016-01-11 12:41:50.749000000</td>\n      <td>49.255224</td>\n      <td>2016-01-11 17:31:12.489000000</td>\n      <td>44.329701</td>\n      <td>2016-01-17 16:24:42.765000000</td>\n    </tr>\n    <tr>\n      <th>3</th>\n      <td>FFDF2B2C-F514-EF7F-6538-A6A53518E9DC</td>\n      <td>86.030665</td>\n      <td>2016-04-30 06:50:39.801000000</td>\n      <td>68.824532</td>\n      <td>2016-04-30 17:20:38.727000000</td>\n      <td>61.942079</td>\n      <td>2016-05-12 07:47:16.326000000</td>\n      <td>49.553663</td>\n      <td>2016-05-07 16:09:20.485000000</td>\n      <td>49.553663</td>\n      <td>2016-05-24 12:51:18.016000000</td>\n      <td>44.598297</td>\n      <td>2016-05-26 08:09:12.058000000</td>\n    </tr>\n    <tr>\n      <th>4</th>\n      <td>5ECBEEB6-F1CE-80AE-3164-E45E99473FB4</td>\n      <td>64.813800</td>\n      <td>2015-12-13 17:06:10.750000000</td>\n      <td>51.491040</td>\n      <td>2015-12-14 12:25:12.056000000</td>\n      <td>41.932832</td>\n      <td>2015-12-29 14:25:22.594000000</td>\n      <td>36.929549</td>\n      <td>2015-12-28 01:29:55.901000000</td>\n      <td>33.236594</td>\n      <td>2015-12-29 14:46:06.628000000</td>\n      <td>33.236594</td>\n      <td>2016-01-05 01:06:59.546000000</td>\n    </tr>\n  </tbody>\n</table>\n</div>"
     },
     "execution_count": 28,
     "metadata": {},
     "output_type": "execute_result"
    }
   ],
   "source": [
    "import pandas as pd\n",
    "\n",
    "df = pd.read_csv('assets/grades.csv')\n",
    "df.head()"
   ],
   "metadata": {
    "collapsed": false,
    "pycharm": {
     "name": "#%%\n"
    }
   }
  },
  {
   "cell_type": "code",
   "execution_count": 29,
   "outputs": [
    {
     "name": "stdout",
     "output_type": "stream",
     "text": [
      "There are 2315 rows and 13 columns\n"
     ]
    }
   ],
   "source": [
    "print(\"There are {} rows and {} columns\".format(df.shape[0], df.shape[1]))"
   ],
   "metadata": {
    "collapsed": false,
    "pycharm": {
     "name": "#%%\n"
    }
   }
  },
  {
   "cell_type": "code",
   "execution_count": 30,
   "outputs": [
    {
     "data": {
      "text/plain": "                             student_id  assignment1_grade  \\\n0  B73F2C11-70F0-E37D-8B10-1D20AFED50B1          92.733946   \n1  98A0FAE0-A19A-13D2-4BB5-CFBFD94031D1          86.790821   \n4  5ECBEEB6-F1CE-80AE-3164-E45E99473FB4          64.813800   \n5  D09000A0-827B-C0FF-3433-BF8FF286E15B          71.647278   \n8  C9D51293-BD58-F113-4167-A7C0BAFCB6E5          66.595568   \n\n          assignment1_submission  assignment2_grade  \\\n0  2015-11-02 06:55:34.282000000          83.030552   \n1  2015-11-29 14:57:44.429000000          86.290821   \n4  2015-12-13 17:06:10.750000000          51.491040   \n5  2015-12-28 04:35:32.836000000          64.052550   \n8  2015-12-25 02:29:28.415000000          52.916454   \n\n          assignment2_submission  assignment3_grade  \\\n0  2015-11-09 02:22:58.938000000          67.164441   \n1  2015-12-06 17:41:18.449000000          69.772657   \n4  2015-12-14 12:25:12.056000000          41.932832   \n5  2016-01-03 21:05:38.392000000          64.752550   \n8  2015-12-31 01:42:30.046000000          48.344809   \n\n          assignment3_submission  assignment4_grade  \\\n0  2015-11-12 08:58:33.998000000          53.011553   \n1  2015-12-10 08:54:55.904000000          55.098125   \n4  2015-12-29 14:25:22.594000000          36.929549   \n5  2016-01-07 08:55:43.692000000          57.467295   \n8  2016-01-05 23:34:02.180000000          47.444809   \n\n          assignment4_submission  assignment5_grade  \\\n0  2015-11-16 01:21:24.663000000          47.710398   \n1  2015-12-13 17:32:30.941000000          49.588313   \n4  2015-12-28 01:29:55.901000000          33.236594   \n5  2016-01-11 00:45:28.706000000          57.467295   \n8  2016-01-02 07:48:42.517000000          37.955847   \n\n          assignment5_submission  assignment6_grade  \\\n0  2015-11-20 13:24:59.692000000          38.168318   \n1  2015-12-19 23:26:39.285000000          44.629482   \n4  2015-12-29 14:46:06.628000000          33.236594   \n5  2016-01-11 00:54:13.579000000          57.467295   \n8  2016-01-03 21:27:04.266000000          37.955847   \n\n          assignment6_submission  \n0  2015-11-22 18:31:15.934000000  \n1  2015-12-21 17:07:24.275000000  \n4  2016-01-05 01:06:59.546000000  \n5  2016-01-20 19:54:46.166000000  \n8  2016-01-19 15:24:31.060000000  ",
      "text/html": "<div>\n<style scoped>\n    .dataframe tbody tr th:only-of-type {\n        vertical-align: middle;\n    }\n\n    .dataframe tbody tr th {\n        vertical-align: top;\n    }\n\n    .dataframe thead th {\n        text-align: right;\n    }\n</style>\n<table border=\"1\" class=\"dataframe\">\n  <thead>\n    <tr style=\"text-align: right;\">\n      <th></th>\n      <th>student_id</th>\n      <th>assignment1_grade</th>\n      <th>assignment1_submission</th>\n      <th>assignment2_grade</th>\n      <th>assignment2_submission</th>\n      <th>assignment3_grade</th>\n      <th>assignment3_submission</th>\n      <th>assignment4_grade</th>\n      <th>assignment4_submission</th>\n      <th>assignment5_grade</th>\n      <th>assignment5_submission</th>\n      <th>assignment6_grade</th>\n      <th>assignment6_submission</th>\n    </tr>\n  </thead>\n  <tbody>\n    <tr>\n      <th>0</th>\n      <td>B73F2C11-70F0-E37D-8B10-1D20AFED50B1</td>\n      <td>92.733946</td>\n      <td>2015-11-02 06:55:34.282000000</td>\n      <td>83.030552</td>\n      <td>2015-11-09 02:22:58.938000000</td>\n      <td>67.164441</td>\n      <td>2015-11-12 08:58:33.998000000</td>\n      <td>53.011553</td>\n      <td>2015-11-16 01:21:24.663000000</td>\n      <td>47.710398</td>\n      <td>2015-11-20 13:24:59.692000000</td>\n      <td>38.168318</td>\n      <td>2015-11-22 18:31:15.934000000</td>\n    </tr>\n    <tr>\n      <th>1</th>\n      <td>98A0FAE0-A19A-13D2-4BB5-CFBFD94031D1</td>\n      <td>86.790821</td>\n      <td>2015-11-29 14:57:44.429000000</td>\n      <td>86.290821</td>\n      <td>2015-12-06 17:41:18.449000000</td>\n      <td>69.772657</td>\n      <td>2015-12-10 08:54:55.904000000</td>\n      <td>55.098125</td>\n      <td>2015-12-13 17:32:30.941000000</td>\n      <td>49.588313</td>\n      <td>2015-12-19 23:26:39.285000000</td>\n      <td>44.629482</td>\n      <td>2015-12-21 17:07:24.275000000</td>\n    </tr>\n    <tr>\n      <th>4</th>\n      <td>5ECBEEB6-F1CE-80AE-3164-E45E99473FB4</td>\n      <td>64.813800</td>\n      <td>2015-12-13 17:06:10.750000000</td>\n      <td>51.491040</td>\n      <td>2015-12-14 12:25:12.056000000</td>\n      <td>41.932832</td>\n      <td>2015-12-29 14:25:22.594000000</td>\n      <td>36.929549</td>\n      <td>2015-12-28 01:29:55.901000000</td>\n      <td>33.236594</td>\n      <td>2015-12-29 14:46:06.628000000</td>\n      <td>33.236594</td>\n      <td>2016-01-05 01:06:59.546000000</td>\n    </tr>\n    <tr>\n      <th>5</th>\n      <td>D09000A0-827B-C0FF-3433-BF8FF286E15B</td>\n      <td>71.647278</td>\n      <td>2015-12-28 04:35:32.836000000</td>\n      <td>64.052550</td>\n      <td>2016-01-03 21:05:38.392000000</td>\n      <td>64.752550</td>\n      <td>2016-01-07 08:55:43.692000000</td>\n      <td>57.467295</td>\n      <td>2016-01-11 00:45:28.706000000</td>\n      <td>57.467295</td>\n      <td>2016-01-11 00:54:13.579000000</td>\n      <td>57.467295</td>\n      <td>2016-01-20 19:54:46.166000000</td>\n    </tr>\n    <tr>\n      <th>8</th>\n      <td>C9D51293-BD58-F113-4167-A7C0BAFCB6E5</td>\n      <td>66.595568</td>\n      <td>2015-12-25 02:29:28.415000000</td>\n      <td>52.916454</td>\n      <td>2015-12-31 01:42:30.046000000</td>\n      <td>48.344809</td>\n      <td>2016-01-05 23:34:02.180000000</td>\n      <td>47.444809</td>\n      <td>2016-01-02 07:48:42.517000000</td>\n      <td>37.955847</td>\n      <td>2016-01-03 21:27:04.266000000</td>\n      <td>37.955847</td>\n      <td>2016-01-19 15:24:31.060000000</td>\n    </tr>\n  </tbody>\n</table>\n</div>"
     },
     "execution_count": 30,
     "metadata": {},
     "output_type": "execute_result"
    }
   ],
   "source": [
    "early_finishers = df[pd.to_datetime(df['assignment1_submission']) < '2016']\n",
    "early_finishers.head()"
   ],
   "metadata": {
    "collapsed": false,
    "pycharm": {
     "name": "#%%\n"
    }
   }
  },
  {
   "cell_type": "code",
   "execution_count": 31,
   "outputs": [
    {
     "data": {
      "text/plain": "                             student_id  assignment1_grade  \\\n2  D0F62040-CEB0-904C-F563-2F8620916C4E          85.512541   \n3  FFDF2B2C-F514-EF7F-6538-A6A53518E9DC          86.030665   \n6  3217BE3F-E4B0-C3B6-9F64-462456819CE4          87.498744   \n7  F1CB5AA1-B3DE-5460-FAFF-BE951FD38B5F          80.576090   \n9  E2C617C2-4654-622C-AB50-1550C4BE42A0          59.270882   \n\n          assignment1_submission  assignment2_grade  \\\n2  2016-01-09 05:36:02.389000000          85.512541   \n3  2016-04-30 06:50:39.801000000          68.824532   \n6  2016-03-05 11:05:25.408000000          69.998995   \n7  2016-01-24 18:24:25.619000000          72.518481   \n9  2016-03-06 12:06:26.185000000          59.270882   \n\n          assignment2_submission  assignment3_grade  \\\n2  2016-01-09 06:39:44.416000000          68.410033   \n3  2016-04-30 17:20:38.727000000          61.942079   \n6  2016-03-09 07:29:52.405000000          55.999196   \n7  2016-01-27 13:37:12.943000000          65.266633   \n9  2016-03-13 02:07:25.289000000          53.343794   \n\n          assignment3_submission  assignment4_grade  \\\n2  2016-01-15 20:22:45.882000000          54.728026   \n3  2016-05-12 07:47:16.326000000          49.553663   \n6  2016-03-16 22:31:24.316000000          50.399276   \n7  2016-01-30 14:34:36.581000000          65.266633   \n9  2016-03-17 07:30:09.241000000          53.343794   \n\n          assignment4_submission  assignment5_grade  \\\n2  2016-01-11 12:41:50.749000000          49.255224   \n3  2016-05-07 16:09:20.485000000          49.553663   \n6  2016-03-18 07:19:26.032000000          45.359349   \n7  2016-02-03 22:08:49.002000000          65.266633   \n9  2016-03-20 21:45:56.229000000          42.675035   \n\n          assignment5_submission  assignment6_grade  \\\n2  2016-01-11 17:31:12.489000000          44.329701   \n3  2016-05-24 12:51:18.016000000          44.598297   \n6  2016-03-19 10:35:41.869000000          45.359349   \n7  2016-02-16 14:22:23.664000000          65.266633   \n9  2016-03-27 15:55:04.414000000          38.407532   \n\n          assignment6_submission  \n2  2016-01-17 16:24:42.765000000  \n3  2016-05-26 08:09:12.058000000  \n6  2016-03-23 14:02:00.987000000  \n7  2016-02-18 08:35:04.796000000  \n9  2016-03-30 20:33:13.554000000  ",
      "text/html": "<div>\n<style scoped>\n    .dataframe tbody tr th:only-of-type {\n        vertical-align: middle;\n    }\n\n    .dataframe tbody tr th {\n        vertical-align: top;\n    }\n\n    .dataframe thead th {\n        text-align: right;\n    }\n</style>\n<table border=\"1\" class=\"dataframe\">\n  <thead>\n    <tr style=\"text-align: right;\">\n      <th></th>\n      <th>student_id</th>\n      <th>assignment1_grade</th>\n      <th>assignment1_submission</th>\n      <th>assignment2_grade</th>\n      <th>assignment2_submission</th>\n      <th>assignment3_grade</th>\n      <th>assignment3_submission</th>\n      <th>assignment4_grade</th>\n      <th>assignment4_submission</th>\n      <th>assignment5_grade</th>\n      <th>assignment5_submission</th>\n      <th>assignment6_grade</th>\n      <th>assignment6_submission</th>\n    </tr>\n  </thead>\n  <tbody>\n    <tr>\n      <th>2</th>\n      <td>D0F62040-CEB0-904C-F563-2F8620916C4E</td>\n      <td>85.512541</td>\n      <td>2016-01-09 05:36:02.389000000</td>\n      <td>85.512541</td>\n      <td>2016-01-09 06:39:44.416000000</td>\n      <td>68.410033</td>\n      <td>2016-01-15 20:22:45.882000000</td>\n      <td>54.728026</td>\n      <td>2016-01-11 12:41:50.749000000</td>\n      <td>49.255224</td>\n      <td>2016-01-11 17:31:12.489000000</td>\n      <td>44.329701</td>\n      <td>2016-01-17 16:24:42.765000000</td>\n    </tr>\n    <tr>\n      <th>3</th>\n      <td>FFDF2B2C-F514-EF7F-6538-A6A53518E9DC</td>\n      <td>86.030665</td>\n      <td>2016-04-30 06:50:39.801000000</td>\n      <td>68.824532</td>\n      <td>2016-04-30 17:20:38.727000000</td>\n      <td>61.942079</td>\n      <td>2016-05-12 07:47:16.326000000</td>\n      <td>49.553663</td>\n      <td>2016-05-07 16:09:20.485000000</td>\n      <td>49.553663</td>\n      <td>2016-05-24 12:51:18.016000000</td>\n      <td>44.598297</td>\n      <td>2016-05-26 08:09:12.058000000</td>\n    </tr>\n    <tr>\n      <th>6</th>\n      <td>3217BE3F-E4B0-C3B6-9F64-462456819CE4</td>\n      <td>87.498744</td>\n      <td>2016-03-05 11:05:25.408000000</td>\n      <td>69.998995</td>\n      <td>2016-03-09 07:29:52.405000000</td>\n      <td>55.999196</td>\n      <td>2016-03-16 22:31:24.316000000</td>\n      <td>50.399276</td>\n      <td>2016-03-18 07:19:26.032000000</td>\n      <td>45.359349</td>\n      <td>2016-03-19 10:35:41.869000000</td>\n      <td>45.359349</td>\n      <td>2016-03-23 14:02:00.987000000</td>\n    </tr>\n    <tr>\n      <th>7</th>\n      <td>F1CB5AA1-B3DE-5460-FAFF-BE951FD38B5F</td>\n      <td>80.576090</td>\n      <td>2016-01-24 18:24:25.619000000</td>\n      <td>72.518481</td>\n      <td>2016-01-27 13:37:12.943000000</td>\n      <td>65.266633</td>\n      <td>2016-01-30 14:34:36.581000000</td>\n      <td>65.266633</td>\n      <td>2016-02-03 22:08:49.002000000</td>\n      <td>65.266633</td>\n      <td>2016-02-16 14:22:23.664000000</td>\n      <td>65.266633</td>\n      <td>2016-02-18 08:35:04.796000000</td>\n    </tr>\n    <tr>\n      <th>9</th>\n      <td>E2C617C2-4654-622C-AB50-1550C4BE42A0</td>\n      <td>59.270882</td>\n      <td>2016-03-06 12:06:26.185000000</td>\n      <td>59.270882</td>\n      <td>2016-03-13 02:07:25.289000000</td>\n      <td>53.343794</td>\n      <td>2016-03-17 07:30:09.241000000</td>\n      <td>53.343794</td>\n      <td>2016-03-20 21:45:56.229000000</td>\n      <td>42.675035</td>\n      <td>2016-03-27 15:55:04.414000000</td>\n      <td>38.407532</td>\n      <td>2016-03-30 20:33:13.554000000</td>\n    </tr>\n  </tbody>\n</table>\n</div>"
     },
     "execution_count": 31,
     "metadata": {},
     "output_type": "execute_result"
    }
   ],
   "source": [
    "late_finishers = df[~df.index.isin(early_finishers.index)]\n",
    "late_finishers.head()"
   ],
   "metadata": {
    "collapsed": false,
    "pycharm": {
     "name": "#%%\n"
    }
   }
  },
  {
   "cell_type": "code",
   "execution_count": 32,
   "outputs": [
    {
     "name": "stdout",
     "output_type": "stream",
     "text": [
      "74.94728457024304\n",
      "74.0450648477065\n"
     ]
    }
   ],
   "source": [
    "print(early_finishers['assignment1_grade'].mean())\n",
    "print(late_finishers['assignment1_grade'].mean())"
   ],
   "metadata": {
    "collapsed": false,
    "pycharm": {
     "name": "#%%\n"
    }
   }
  },
  {
   "cell_type": "markdown",
   "source": [
    "T-test means the populations are not related to one another.\n",
    "t-statistic and p-value\n",
    "latter value, probability"
   ],
   "metadata": {
    "collapsed": false,
    "pycharm": {
     "name": "#%% md\n"
    }
   }
  },
  {
   "cell_type": "code",
   "execution_count": 33,
   "outputs": [
    {
     "data": {
      "text/plain": "Ttest_indResult(statistic=1.3223540853721598, pvalue=0.18618101101713855)"
     },
     "execution_count": 33,
     "metadata": {},
     "output_type": "execute_result"
    }
   ],
   "source": [
    "from scipy.stats import ttest_ind\n",
    "\n",
    "ttest_ind(early_finishers['assignment1_grade'], late_finishers['assignment1_grade'])"
   ],
   "metadata": {
    "collapsed": false,
    "pycharm": {
     "name": "#%%\n"
    }
   }
  },
  {
   "cell_type": "markdown",
   "source": [
    "the probability is 0.18 > 0.05, means that we cannot reject the null hypothesis. The null hypothesis was the two populations are the same, and we don't have enough certainty in our evidence( because it is greater than alpha) to come to a conclusion to the contrary.\n",
    "This doesn't meanthat we have proven the populations are the same."
   ],
   "metadata": {
    "collapsed": false,
    "pycharm": {
     "name": "#%% md\n"
    }
   }
  },
  {
   "cell_type": "code",
   "execution_count": 34,
   "outputs": [
    {
     "name": "stdout",
     "output_type": "stream",
     "text": [
      "Ttest_indResult(statistic=1.6133726558705392, pvalue=0.10679998102227865)\n",
      "Ttest_indResult(statistic=0.049671157386456125, pvalue=0.960388729789337)\n",
      "Ttest_indResult(statistic=-0.05279315545404755, pvalue=0.9579012739746492)\n"
     ]
    }
   ],
   "source": [
    "print(ttest_ind(early_finishers['assignment3_grade'], late_finishers['assignment3_grade']))\n",
    "print(ttest_ind(early_finishers['assignment4_grade'], late_finishers['assignment4_grade']))\n",
    "print(ttest_ind(early_finishers['assignment5_grade'], late_finishers['assignment5_grade']))"
   ],
   "metadata": {
    "collapsed": false,
    "pycharm": {
     "name": "#%%\n"
    }
   }
  },
  {
   "cell_type": "code",
   "execution_count": 41,
   "outputs": [
    {
     "data": {
      "text/plain": "        0         1         2         3         4         5         6    \\\n0  0.813443  0.706234  0.061635  0.033016  0.707098  0.167861  0.714090   \n1  0.494210  0.681822  0.636309  0.827219  0.066495  0.225341  0.847308   \n2  0.901793  0.237464  0.211244  0.359297  0.948772  0.692298  0.918781   \n3  0.002360  0.399929  0.203964  0.412585  0.258534  0.172074  0.025065   \n4  0.976144  0.825707  0.819333  0.298440  0.039688  0.526050  0.555245   \n\n        7         8         9    ...       490       491       492       493  \\\n0  0.336882  0.184350  0.574581  ...  0.961264  0.164097  0.733061  0.616974   \n1  0.295959  0.699373  0.098040  ...  0.660188  0.321353  0.302042  0.389997   \n2  0.668200  0.659879  0.423629  ...  0.467962  0.714450  0.714136  0.303523   \n3  0.218191  0.620315  0.883893  ...  0.678419  0.223049  0.021170  0.739771   \n4  0.147726  0.428729  0.371594  ...  0.994513  0.398199  0.905798  0.448856   \n\n        494       495       496       497       498       499  \n0  0.372032  0.386219  0.927689  0.641867  0.617709  0.944347  \n1  0.061263  0.507090  0.802483  0.227667  0.816399  0.000468  \n2  0.267009  0.009529  0.848248  0.451506  0.268705  0.718519  \n3  0.428999  0.359221  0.112022  0.694719  0.488931  0.987195  \n4  0.224050  0.204012  0.543846  0.304018  0.906333  0.781160  \n\n[5 rows x 500 columns]",
      "text/html": "<div>\n<style scoped>\n    .dataframe tbody tr th:only-of-type {\n        vertical-align: middle;\n    }\n\n    .dataframe tbody tr th {\n        vertical-align: top;\n    }\n\n    .dataframe thead th {\n        text-align: right;\n    }\n</style>\n<table border=\"1\" class=\"dataframe\">\n  <thead>\n    <tr style=\"text-align: right;\">\n      <th></th>\n      <th>0</th>\n      <th>1</th>\n      <th>2</th>\n      <th>3</th>\n      <th>4</th>\n      <th>5</th>\n      <th>6</th>\n      <th>7</th>\n      <th>8</th>\n      <th>9</th>\n      <th>...</th>\n      <th>490</th>\n      <th>491</th>\n      <th>492</th>\n      <th>493</th>\n      <th>494</th>\n      <th>495</th>\n      <th>496</th>\n      <th>497</th>\n      <th>498</th>\n      <th>499</th>\n    </tr>\n  </thead>\n  <tbody>\n    <tr>\n      <th>0</th>\n      <td>0.813443</td>\n      <td>0.706234</td>\n      <td>0.061635</td>\n      <td>0.033016</td>\n      <td>0.707098</td>\n      <td>0.167861</td>\n      <td>0.714090</td>\n      <td>0.336882</td>\n      <td>0.184350</td>\n      <td>0.574581</td>\n      <td>...</td>\n      <td>0.961264</td>\n      <td>0.164097</td>\n      <td>0.733061</td>\n      <td>0.616974</td>\n      <td>0.372032</td>\n      <td>0.386219</td>\n      <td>0.927689</td>\n      <td>0.641867</td>\n      <td>0.617709</td>\n      <td>0.944347</td>\n    </tr>\n    <tr>\n      <th>1</th>\n      <td>0.494210</td>\n      <td>0.681822</td>\n      <td>0.636309</td>\n      <td>0.827219</td>\n      <td>0.066495</td>\n      <td>0.225341</td>\n      <td>0.847308</td>\n      <td>0.295959</td>\n      <td>0.699373</td>\n      <td>0.098040</td>\n      <td>...</td>\n      <td>0.660188</td>\n      <td>0.321353</td>\n      <td>0.302042</td>\n      <td>0.389997</td>\n      <td>0.061263</td>\n      <td>0.507090</td>\n      <td>0.802483</td>\n      <td>0.227667</td>\n      <td>0.816399</td>\n      <td>0.000468</td>\n    </tr>\n    <tr>\n      <th>2</th>\n      <td>0.901793</td>\n      <td>0.237464</td>\n      <td>0.211244</td>\n      <td>0.359297</td>\n      <td>0.948772</td>\n      <td>0.692298</td>\n      <td>0.918781</td>\n      <td>0.668200</td>\n      <td>0.659879</td>\n      <td>0.423629</td>\n      <td>...</td>\n      <td>0.467962</td>\n      <td>0.714450</td>\n      <td>0.714136</td>\n      <td>0.303523</td>\n      <td>0.267009</td>\n      <td>0.009529</td>\n      <td>0.848248</td>\n      <td>0.451506</td>\n      <td>0.268705</td>\n      <td>0.718519</td>\n    </tr>\n    <tr>\n      <th>3</th>\n      <td>0.002360</td>\n      <td>0.399929</td>\n      <td>0.203964</td>\n      <td>0.412585</td>\n      <td>0.258534</td>\n      <td>0.172074</td>\n      <td>0.025065</td>\n      <td>0.218191</td>\n      <td>0.620315</td>\n      <td>0.883893</td>\n      <td>...</td>\n      <td>0.678419</td>\n      <td>0.223049</td>\n      <td>0.021170</td>\n      <td>0.739771</td>\n      <td>0.428999</td>\n      <td>0.359221</td>\n      <td>0.112022</td>\n      <td>0.694719</td>\n      <td>0.488931</td>\n      <td>0.987195</td>\n    </tr>\n    <tr>\n      <th>4</th>\n      <td>0.976144</td>\n      <td>0.825707</td>\n      <td>0.819333</td>\n      <td>0.298440</td>\n      <td>0.039688</td>\n      <td>0.526050</td>\n      <td>0.555245</td>\n      <td>0.147726</td>\n      <td>0.428729</td>\n      <td>0.371594</td>\n      <td>...</td>\n      <td>0.994513</td>\n      <td>0.398199</td>\n      <td>0.905798</td>\n      <td>0.448856</td>\n      <td>0.224050</td>\n      <td>0.204012</td>\n      <td>0.543846</td>\n      <td>0.304018</td>\n      <td>0.906333</td>\n      <td>0.781160</td>\n    </tr>\n  </tbody>\n</table>\n<p>5 rows × 500 columns</p>\n</div>"
     },
     "execution_count": 41,
     "metadata": {},
     "output_type": "execute_result"
    }
   ],
   "source": [
    "import numpy as np\n",
    "\n",
    "# import numpy as np\n",
    "df1 = pd.DataFrame([np.random.random(500) for x in range(500)])\n",
    "df1.head()"
   ],
   "metadata": {
    "collapsed": false,
    "pycharm": {
     "name": "#%%\n"
    }
   }
  },
  {
   "cell_type": "code",
   "execution_count": 43,
   "outputs": [
    {
     "data": {
      "text/plain": "        0         1         2         3         4         5         6    \\\n0  0.969541  0.750925  0.800796  0.574347  0.144426  0.142668  0.048089   \n1  0.474573  0.260363  0.621660  0.198437  0.704525  0.144222  0.731982   \n2  0.751171  0.745649  0.484341  0.162961  0.857695  0.665104  0.099306   \n3  0.857963  0.066375  0.052007  0.785406  0.013435  0.451454  0.524386   \n4  0.607632  0.498445  0.645630  0.424284  0.330182  0.911996  0.266748   \n\n        7         8         9    ...       490       491       492       493  \\\n0  0.455540  0.469089  0.498004  ...  0.424155  0.648944  0.754497  0.729533   \n1  0.207469  0.308655  0.154442  ...  0.789510  0.992353  0.486648  0.687863   \n2  0.305432  0.691486  0.214331  ...  0.033471  0.188089  0.308570  0.445609   \n3  0.530295  0.191855  0.130431  ...  0.904032  0.557934  0.621669  0.136848   \n4  0.131741  0.104096  0.039640  ...  0.086062  0.917437  0.297865  0.543055   \n\n        494       495       496       497       498       499  \n0  0.837447  0.544597  0.212500  0.961095  0.836190  0.892923  \n1  0.316516  0.844262  0.224506  0.269797  0.969404  0.397055  \n2  0.485407  0.873249  0.597839  0.885473  0.778095  0.293557  \n3  0.855737  0.495464  0.192001  0.532219  0.790307  0.341261  \n4  0.790882  0.247727  0.108148  0.037663  0.821053  0.524809  \n\n[5 rows x 500 columns]",
      "text/html": "<div>\n<style scoped>\n    .dataframe tbody tr th:only-of-type {\n        vertical-align: middle;\n    }\n\n    .dataframe tbody tr th {\n        vertical-align: top;\n    }\n\n    .dataframe thead th {\n        text-align: right;\n    }\n</style>\n<table border=\"1\" class=\"dataframe\">\n  <thead>\n    <tr style=\"text-align: right;\">\n      <th></th>\n      <th>0</th>\n      <th>1</th>\n      <th>2</th>\n      <th>3</th>\n      <th>4</th>\n      <th>5</th>\n      <th>6</th>\n      <th>7</th>\n      <th>8</th>\n      <th>9</th>\n      <th>...</th>\n      <th>490</th>\n      <th>491</th>\n      <th>492</th>\n      <th>493</th>\n      <th>494</th>\n      <th>495</th>\n      <th>496</th>\n      <th>497</th>\n      <th>498</th>\n      <th>499</th>\n    </tr>\n  </thead>\n  <tbody>\n    <tr>\n      <th>0</th>\n      <td>0.969541</td>\n      <td>0.750925</td>\n      <td>0.800796</td>\n      <td>0.574347</td>\n      <td>0.144426</td>\n      <td>0.142668</td>\n      <td>0.048089</td>\n      <td>0.455540</td>\n      <td>0.469089</td>\n      <td>0.498004</td>\n      <td>...</td>\n      <td>0.424155</td>\n      <td>0.648944</td>\n      <td>0.754497</td>\n      <td>0.729533</td>\n      <td>0.837447</td>\n      <td>0.544597</td>\n      <td>0.212500</td>\n      <td>0.961095</td>\n      <td>0.836190</td>\n      <td>0.892923</td>\n    </tr>\n    <tr>\n      <th>1</th>\n      <td>0.474573</td>\n      <td>0.260363</td>\n      <td>0.621660</td>\n      <td>0.198437</td>\n      <td>0.704525</td>\n      <td>0.144222</td>\n      <td>0.731982</td>\n      <td>0.207469</td>\n      <td>0.308655</td>\n      <td>0.154442</td>\n      <td>...</td>\n      <td>0.789510</td>\n      <td>0.992353</td>\n      <td>0.486648</td>\n      <td>0.687863</td>\n      <td>0.316516</td>\n      <td>0.844262</td>\n      <td>0.224506</td>\n      <td>0.269797</td>\n      <td>0.969404</td>\n      <td>0.397055</td>\n    </tr>\n    <tr>\n      <th>2</th>\n      <td>0.751171</td>\n      <td>0.745649</td>\n      <td>0.484341</td>\n      <td>0.162961</td>\n      <td>0.857695</td>\n      <td>0.665104</td>\n      <td>0.099306</td>\n      <td>0.305432</td>\n      <td>0.691486</td>\n      <td>0.214331</td>\n      <td>...</td>\n      <td>0.033471</td>\n      <td>0.188089</td>\n      <td>0.308570</td>\n      <td>0.445609</td>\n      <td>0.485407</td>\n      <td>0.873249</td>\n      <td>0.597839</td>\n      <td>0.885473</td>\n      <td>0.778095</td>\n      <td>0.293557</td>\n    </tr>\n    <tr>\n      <th>3</th>\n      <td>0.857963</td>\n      <td>0.066375</td>\n      <td>0.052007</td>\n      <td>0.785406</td>\n      <td>0.013435</td>\n      <td>0.451454</td>\n      <td>0.524386</td>\n      <td>0.530295</td>\n      <td>0.191855</td>\n      <td>0.130431</td>\n      <td>...</td>\n      <td>0.904032</td>\n      <td>0.557934</td>\n      <td>0.621669</td>\n      <td>0.136848</td>\n      <td>0.855737</td>\n      <td>0.495464</td>\n      <td>0.192001</td>\n      <td>0.532219</td>\n      <td>0.790307</td>\n      <td>0.341261</td>\n    </tr>\n    <tr>\n      <th>4</th>\n      <td>0.607632</td>\n      <td>0.498445</td>\n      <td>0.645630</td>\n      <td>0.424284</td>\n      <td>0.330182</td>\n      <td>0.911996</td>\n      <td>0.266748</td>\n      <td>0.131741</td>\n      <td>0.104096</td>\n      <td>0.039640</td>\n      <td>...</td>\n      <td>0.086062</td>\n      <td>0.917437</td>\n      <td>0.297865</td>\n      <td>0.543055</td>\n      <td>0.790882</td>\n      <td>0.247727</td>\n      <td>0.108148</td>\n      <td>0.037663</td>\n      <td>0.821053</td>\n      <td>0.524809</td>\n    </tr>\n  </tbody>\n</table>\n<p>5 rows × 500 columns</p>\n</div>"
     },
     "execution_count": 43,
     "metadata": {},
     "output_type": "execute_result"
    }
   ],
   "source": [
    "df2 = pd.DataFrame([np.random.random(500) for x in range(500)])\n",
    "df2.head()"
   ],
   "metadata": {
    "collapsed": false,
    "pycharm": {
     "name": "#%%\n"
    }
   }
  },
  {
   "cell_type": "code",
   "execution_count": 47,
   "outputs": [
    {
     "name": "stdout",
     "output_type": "stream",
     "text": [
      "Col 1 is statistically significantly different at alpha=0.3, pval=0.21257427333256526\n",
      "Col 7 is statistically significantly different at alpha=0.3, pval=0.06389939282173637\n",
      "Col 8 is statistically significantly different at alpha=0.3, pval=0.046624916719787274\n",
      "Col 13 is statistically significantly different at alpha=0.3, pval=0.2426883355456559\n",
      "Col 15 is statistically significantly different at alpha=0.3, pval=0.03901562095589508\n",
      "Col 20 is statistically significantly different at alpha=0.3, pval=0.2624965861769947\n",
      "Col 22 is statistically significantly different at alpha=0.3, pval=0.029701462865571012\n",
      "Col 23 is statistically significantly different at alpha=0.3, pval=0.03234469631659587\n",
      "Col 25 is statistically significantly different at alpha=0.3, pval=0.056659828724186775\n",
      "Col 26 is statistically significantly different at alpha=0.3, pval=0.2893657436543706\n",
      "Col 27 is statistically significantly different at alpha=0.3, pval=0.014095925483237072\n",
      "Col 35 is statistically significantly different at alpha=0.3, pval=0.014969694204307493\n",
      "Col 36 is statistically significantly different at alpha=0.3, pval=0.2097410060191717\n",
      "Col 38 is statistically significantly different at alpha=0.3, pval=0.19348732809015906\n",
      "Col 40 is statistically significantly different at alpha=0.3, pval=0.19384512868728487\n",
      "Col 45 is statistically significantly different at alpha=0.3, pval=0.2932876640604215\n",
      "Col 46 is statistically significantly different at alpha=0.3, pval=0.05381992097410333\n",
      "Col 50 is statistically significantly different at alpha=0.3, pval=0.09686464968488417\n",
      "Col 52 is statistically significantly different at alpha=0.3, pval=0.006132812651129683\n",
      "Col 60 is statistically significantly different at alpha=0.3, pval=0.12876707660570624\n",
      "Col 61 is statistically significantly different at alpha=0.3, pval=0.007566840812955878\n",
      "Col 62 is statistically significantly different at alpha=0.3, pval=0.2865341973475945\n",
      "Col 65 is statistically significantly different at alpha=0.3, pval=0.03606569010638738\n",
      "Col 66 is statistically significantly different at alpha=0.3, pval=0.11284149030476892\n",
      "Col 68 is statistically significantly different at alpha=0.3, pval=0.26209226507204825\n",
      "Col 69 is statistically significantly different at alpha=0.3, pval=0.12831817708196483\n",
      "Col 75 is statistically significantly different at alpha=0.3, pval=0.13873633212928302\n",
      "Col 86 is statistically significantly different at alpha=0.3, pval=0.2848618865528598\n",
      "Col 88 is statistically significantly different at alpha=0.3, pval=0.17434733595891475\n",
      "Col 91 is statistically significantly different at alpha=0.3, pval=0.05933549109459202\n",
      "Col 92 is statistically significantly different at alpha=0.3, pval=0.23531640960477332\n",
      "Col 96 is statistically significantly different at alpha=0.3, pval=0.2271770172031745\n",
      "Col 97 is statistically significantly different at alpha=0.3, pval=0.16294879759661868\n",
      "Col 99 is statistically significantly different at alpha=0.3, pval=0.0767976668756969\n",
      "Col 100 is statistically significantly different at alpha=0.3, pval=0.28018817905863624\n",
      "Col 110 is statistically significantly different at alpha=0.3, pval=0.26354045534590753\n",
      "Col 119 is statistically significantly different at alpha=0.3, pval=0.29727246099682947\n",
      "Col 122 is statistically significantly different at alpha=0.3, pval=0.13941855417702925\n",
      "Col 127 is statistically significantly different at alpha=0.3, pval=0.254071497809606\n",
      "Col 129 is statistically significantly different at alpha=0.3, pval=0.24490822584694116\n",
      "Col 135 is statistically significantly different at alpha=0.3, pval=0.24957832420216391\n",
      "Col 137 is statistically significantly different at alpha=0.3, pval=0.15339626611296345\n",
      "Col 140 is statistically significantly different at alpha=0.3, pval=0.2833423914758133\n",
      "Col 142 is statistically significantly different at alpha=0.3, pval=0.10425386726148506\n",
      "Col 145 is statistically significantly different at alpha=0.3, pval=0.03927941718800946\n",
      "Col 147 is statistically significantly different at alpha=0.3, pval=0.06390581366750807\n",
      "Col 158 is statistically significantly different at alpha=0.3, pval=0.24676728779665352\n",
      "Col 162 is statistically significantly different at alpha=0.3, pval=0.23111015228953555\n",
      "Col 164 is statistically significantly different at alpha=0.3, pval=0.2992411452682969\n",
      "Col 166 is statistically significantly different at alpha=0.3, pval=0.09823634916891204\n",
      "Col 169 is statistically significantly different at alpha=0.3, pval=0.1393970441794386\n",
      "Col 170 is statistically significantly different at alpha=0.3, pval=0.20133776714010537\n",
      "Col 171 is statistically significantly different at alpha=0.3, pval=0.12369968936133034\n",
      "Col 178 is statistically significantly different at alpha=0.3, pval=0.2477561936358321\n",
      "Col 179 is statistically significantly different at alpha=0.3, pval=0.07681317905971853\n",
      "Col 181 is statistically significantly different at alpha=0.3, pval=0.1751515198853037\n",
      "Col 182 is statistically significantly different at alpha=0.3, pval=0.0034873162273780255\n",
      "Col 184 is statistically significantly different at alpha=0.3, pval=0.12185338553445851\n",
      "Col 188 is statistically significantly different at alpha=0.3, pval=0.2723232749880145\n",
      "Col 189 is statistically significantly different at alpha=0.3, pval=0.12675974405811705\n",
      "Col 205 is statistically significantly different at alpha=0.3, pval=0.08173487815189533\n",
      "Col 207 is statistically significantly different at alpha=0.3, pval=0.22133697246204806\n",
      "Col 210 is statistically significantly different at alpha=0.3, pval=0.04275118075503676\n",
      "Col 212 is statistically significantly different at alpha=0.3, pval=0.08026330163415786\n",
      "Col 214 is statistically significantly different at alpha=0.3, pval=0.2781578042050958\n",
      "Col 216 is statistically significantly different at alpha=0.3, pval=0.0317138501911099\n",
      "Col 218 is statistically significantly different at alpha=0.3, pval=0.11735705878654844\n",
      "Col 220 is statistically significantly different at alpha=0.3, pval=0.286154515012033\n",
      "Col 227 is statistically significantly different at alpha=0.3, pval=0.2771216926446505\n",
      "Col 228 is statistically significantly different at alpha=0.3, pval=0.1959551923144871\n",
      "Col 229 is statistically significantly different at alpha=0.3, pval=0.2886861326511618\n",
      "Col 233 is statistically significantly different at alpha=0.3, pval=0.04268822697672754\n",
      "Col 239 is statistically significantly different at alpha=0.3, pval=0.18823673007076747\n",
      "Col 240 is statistically significantly different at alpha=0.3, pval=0.1554836240473873\n",
      "Col 241 is statistically significantly different at alpha=0.3, pval=0.09065020644203726\n",
      "Col 247 is statistically significantly different at alpha=0.3, pval=0.12034340895084698\n",
      "Col 252 is statistically significantly different at alpha=0.3, pval=0.2922209061238551\n",
      "Col 255 is statistically significantly different at alpha=0.3, pval=0.0780377561163582\n",
      "Col 257 is statistically significantly different at alpha=0.3, pval=0.2490130787778438\n",
      "Col 258 is statistically significantly different at alpha=0.3, pval=0.033381359432534834\n",
      "Col 259 is statistically significantly different at alpha=0.3, pval=0.03813892192056907\n",
      "Col 262 is statistically significantly different at alpha=0.3, pval=0.16990185250861384\n",
      "Col 265 is statistically significantly different at alpha=0.3, pval=0.1504170648287757\n",
      "Col 266 is statistically significantly different at alpha=0.3, pval=0.2994892291818393\n",
      "Col 269 is statistically significantly different at alpha=0.3, pval=0.1964977441114124\n",
      "Col 272 is statistically significantly different at alpha=0.3, pval=0.05829733195244879\n",
      "Col 275 is statistically significantly different at alpha=0.3, pval=0.07258266615770419\n",
      "Col 279 is statistically significantly different at alpha=0.3, pval=0.24275549236488414\n",
      "Col 283 is statistically significantly different at alpha=0.3, pval=0.0515134801929909\n",
      "Col 286 is statistically significantly different at alpha=0.3, pval=0.2836835511189224\n",
      "Col 289 is statistically significantly different at alpha=0.3, pval=0.24928291667008812\n",
      "Col 295 is statistically significantly different at alpha=0.3, pval=0.29101913810664903\n",
      "Col 298 is statistically significantly different at alpha=0.3, pval=0.10802082312496808\n",
      "Col 301 is statistically significantly different at alpha=0.3, pval=0.2713477948278021\n",
      "Col 304 is statistically significantly different at alpha=0.3, pval=0.21679067318156728\n",
      "Col 318 is statistically significantly different at alpha=0.3, pval=0.2004023139030063\n",
      "Col 319 is statistically significantly different at alpha=0.3, pval=0.24622974668063183\n",
      "Col 323 is statistically significantly different at alpha=0.3, pval=0.26040223715227584\n",
      "Col 325 is statistically significantly different at alpha=0.3, pval=0.2594029959251116\n",
      "Col 327 is statistically significantly different at alpha=0.3, pval=0.035253651767362344\n",
      "Col 328 is statistically significantly different at alpha=0.3, pval=0.20780821211097789\n",
      "Col 334 is statistically significantly different at alpha=0.3, pval=0.25995095654386485\n",
      "Col 335 is statistically significantly different at alpha=0.3, pval=0.2706598607170037\n",
      "Col 336 is statistically significantly different at alpha=0.3, pval=0.09625550098030658\n",
      "Col 338 is statistically significantly different at alpha=0.3, pval=0.1038063929101992\n",
      "Col 343 is statistically significantly different at alpha=0.3, pval=0.05655591063369159\n",
      "Col 351 is statistically significantly different at alpha=0.3, pval=0.0107048824757174\n",
      "Col 354 is statistically significantly different at alpha=0.3, pval=0.08626298615409961\n",
      "Col 355 is statistically significantly different at alpha=0.3, pval=0.1762741021922311\n",
      "Col 356 is statistically significantly different at alpha=0.3, pval=0.20928695169185849\n",
      "Col 370 is statistically significantly different at alpha=0.3, pval=0.13188640761861412\n",
      "Col 374 is statistically significantly different at alpha=0.3, pval=0.12242010456915964\n",
      "Col 375 is statistically significantly different at alpha=0.3, pval=0.10632265855300549\n",
      "Col 381 is statistically significantly different at alpha=0.3, pval=0.2690560464740841\n",
      "Col 382 is statistically significantly different at alpha=0.3, pval=0.23272718442297435\n",
      "Col 386 is statistically significantly different at alpha=0.3, pval=0.18013025250768794\n",
      "Col 387 is statistically significantly different at alpha=0.3, pval=0.27038642072458813\n",
      "Col 389 is statistically significantly different at alpha=0.3, pval=0.15759035545820407\n",
      "Col 391 is statistically significantly different at alpha=0.3, pval=0.2745334721663802\n",
      "Col 400 is statistically significantly different at alpha=0.3, pval=0.29217496799457665\n",
      "Col 403 is statistically significantly different at alpha=0.3, pval=0.25115392109501067\n",
      "Col 404 is statistically significantly different at alpha=0.3, pval=0.16101032473293295\n",
      "Col 405 is statistically significantly different at alpha=0.3, pval=0.07174349969626771\n",
      "Col 412 is statistically significantly different at alpha=0.3, pval=0.0594978863531132\n",
      "Col 419 is statistically significantly different at alpha=0.3, pval=0.2567252106378456\n",
      "Col 429 is statistically significantly different at alpha=0.3, pval=0.09206120919792768\n",
      "Col 435 is statistically significantly different at alpha=0.3, pval=0.28353717004230233\n",
      "Col 440 is statistically significantly different at alpha=0.3, pval=0.15187842012788721\n",
      "Col 448 is statistically significantly different at alpha=0.3, pval=0.0051152521042988845\n",
      "Col 451 is statistically significantly different at alpha=0.3, pval=0.24830599835492576\n",
      "Col 456 is statistically significantly different at alpha=0.3, pval=0.10304874883557948\n",
      "Col 457 is statistically significantly different at alpha=0.3, pval=0.12433135509105439\n",
      "Col 458 is statistically significantly different at alpha=0.3, pval=0.05110202784371553\n",
      "Col 460 is statistically significantly different at alpha=0.3, pval=0.2481998055039967\n",
      "Col 462 is statistically significantly different at alpha=0.3, pval=0.2516874591779024\n",
      "Col 463 is statistically significantly different at alpha=0.3, pval=0.008627585671060534\n",
      "Col 466 is statistically significantly different at alpha=0.3, pval=0.11520076592111246\n",
      "Col 468 is statistically significantly different at alpha=0.3, pval=0.06654800820777648\n",
      "Col 473 is statistically significantly different at alpha=0.3, pval=0.012027523110336094\n",
      "Col 474 is statistically significantly different at alpha=0.3, pval=0.11405385133295098\n",
      "Col 476 is statistically significantly different at alpha=0.3, pval=0.21200708502614782\n",
      "Col 478 is statistically significantly different at alpha=0.3, pval=0.1375034936325603\n",
      "Col 480 is statistically significantly different at alpha=0.3, pval=0.1615855644495433\n",
      "Col 481 is statistically significantly different at alpha=0.3, pval=0.08798066477085204\n",
      "Col 487 is statistically significantly different at alpha=0.3, pval=0.001390946022911067\n",
      "Col 494 is statistically significantly different at alpha=0.3, pval=0.1878629678281049\n",
      "Col 495 is statistically significantly different at alpha=0.3, pval=0.15887430914993186\n",
      "Col 499 is statistically significantly different at alpha=0.3, pval=0.21644832792012786\n",
      "Total number different was 148, which is 29.599999999999998%\n"
     ]
    }
   ],
   "source": [
    "def test_columns(alpha=0.3):\n",
    "    num_diff = 0\n",
    "    for col in df1.columns:\n",
    "        teststat, pval = ttest_ind(df1[col], df2[col])\n",
    "        if pval <= alpha:\n",
    "            print(\"Col {} is statistically significantly different at alpha={}, pval={}\".format(col, alpha, pval))\n",
    "            num_diff += 1\n",
    "    print(\"Total number different was {}, which is {}%\".format(num_diff,float(num_diff)/len(df1.columns)*100))\n",
    "\n",
    "test_columns()"
   ],
   "metadata": {
    "collapsed": false,
    "pycharm": {
     "name": "#%%\n"
    }
   }
  },
  {
   "cell_type": "code",
   "execution_count": null,
   "outputs": [],
   "source": [],
   "metadata": {
    "collapsed": false,
    "pycharm": {
     "name": "#%%\n"
    }
   }
  }
 ],
 "metadata": {
  "kernelspec": {
   "display_name": "Python 3",
   "language": "python",
   "name": "python3"
  },
  "language_info": {
   "codemirror_mode": {
    "name": "ipython",
    "version": 2
   },
   "file_extension": ".py",
   "mimetype": "text/x-python",
   "name": "python",
   "nbconvert_exporter": "python",
   "pygments_lexer": "ipython2",
   "version": "2.7.6"
  }
 },
 "nbformat": 4,
 "nbformat_minor": 0
}